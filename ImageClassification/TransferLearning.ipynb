{
 "cells": [
  {
   "cell_type": "markdown",
   "metadata": {},
   "source": [
    "# Artificial Neural Network and Deep Learning \n",
    "## Challenge 1: Image Classification\n",
    "### Team:   Bergamasco Alex 10521973\n",
    "\n",
    "This is the second approach that i used in this challenge.\n",
    "I started adding as the first part of the network a VGG pretrained model, reaching an accuracy of 0.87. After some parameters tuning, I reached 0.92 accuracy. Then I tried different pretrained networks (InceptionResnetV2, InceptionV3, Xception and NASNet Large) reaching with the latest one an accuracy of 0.97 after tuning parameters."
   ]
  },
  {
   "cell_type": "code",
   "execution_count": null,
   "metadata": {},
   "outputs": [],
   "source": [
    "from IPython.core.interactiveshell import InteractiveShell\n",
    "InteractiveShell.ast_node_interactivity = \"all\""
   ]
  },
  {
   "cell_type": "code",
   "execution_count": null,
   "metadata": {},
   "outputs": [],
   "source": [
    "import numpy as np\n",
    "import tensorflow as tf\n",
    "\n",
    "SEED = 1234\n",
    "\n",
    "tf.random.set_seed(SEED)\n",
    "import os\n",
    "\n",
    "gpus = tf.config.experimental.list_physical_devices('GPU')\n",
    "if gpus:\n",
    "  try:\n",
    "    for gpu in gpus:\n",
    "      tf.config.experimental.set_memory_growth(gpu, True)\n",
    "    logical_gpus = tf.config.experimental.list_logical_devices('GPU')\n",
    "    print(len(gpus), \"Physical GPUs,\", len(logical_gpus), \"Logical GPUs\")\n",
    "  except RuntimeError as e:\n",
    "    print(e)\n",
    "    \n",
    "cwd = os.getcwd()"
   ]
  },
  {
   "cell_type": "markdown",
   "metadata": {},
   "source": [
    "### Validation set already created in My_CNN file"
   ]
  },
  {
   "cell_type": "code",
   "execution_count": null,
   "metadata": {},
   "outputs": [],
   "source": [
    "from tensorflow.keras.preprocessing.image import ImageDataGenerator\n",
    "\n",
    "apply_data_augmentation = True\n",
    "\n",
    "if apply_data_augmentation:\n",
    "    train_data_gen = ImageDataGenerator(rotation_range=40,\n",
    "                                        width_shift_range=0.2,\n",
    "                                        height_shift_range=0.2,\n",
    "                                        shear_range=0.2,\n",
    "                                        zoom_range=[0.8, 1.25],\n",
    "                                        horizontal_flip=True,\n",
    "                                        vertical_flip=False,\n",
    "                                        fill_mode='reflect',\n",
    "                                        brightness_range=[0.5, 1.5],\n",
    "                                        cval=0,\n",
    "                                        rescale=1./255)\n",
    "else:\n",
    "    train_data_gen = ImageDataGenerator(rescale=1./255)\n",
    "\n",
    "valid_data_gen = ImageDataGenerator(rescale=1./255)\n",
    "test_data_gen = ImageDataGenerator(rescale=1./255)"
   ]
  },
  {
   "cell_type": "code",
   "execution_count": null,
   "metadata": {},
   "outputs": [],
   "source": [
    "dataset_dir = os.path.join('/kaggle/input/splitted-data/Classification_Dataset')\n",
    "\n",
    "bs = 4\n",
    "\n",
    "img_h = 299 \n",
    "img_w = 299 \n",
    "\n",
    "num_classes=20\n",
    "\n",
    "input_shape = (img_h, img_w, 3)\n",
    "\n",
    "decide_class_indices = True\n",
    "if decide_class_indices:\n",
    "    classes = [ 'owl',\n",
    "                'galaxy',\n",
    "                'lightning',\n",
    "                'wine-bottle',\n",
    "                't-shirt',\n",
    "                'waterfall',\n",
    "                'sword',\n",
    "                'school-bus',\n",
    "                'calculator',\n",
    "                'sheet-music',\n",
    "                'airplanes',\n",
    "                'lightbulb',\n",
    "                'skyscraper',\n",
    "                'mountain-bike',\n",
    "                'fireworks',\n",
    "                'computer-monitor',\n",
    "                'bear',\n",
    "                'grand-piano',\n",
    "                'kangaroo',\n",
    "                'laptop']   \n",
    "else:\n",
    "    classes=None\n",
    "\n",
    "training_dir = os.path.join(dataset_dir, 'training')\n",
    "train_gen = train_data_gen.flow_from_directory(training_dir,\n",
    "                                               batch_size=bs,\n",
    "                                               classes=classes,\n",
    "                                               target_size=(img_h, img_w),\n",
    "                                               class_mode='categorical',\n",
    "                                               shuffle=True,\n",
    "                                               seed=SEED) \n",
    "\n",
    "validation_dir = os.path.join(dataset_dir, 'validation')\n",
    "valid_gen = valid_data_gen.flow_from_directory(validation_dir,\n",
    "                                               batch_size=bs, \n",
    "                                               classes=classes,\n",
    "                                               target_size=(img_h, img_w),\n",
    "                                               class_mode='categorical',\n",
    "                                               shuffle=False,\n",
    "                                               seed=SEED)"
   ]
  },
  {
   "cell_type": "code",
   "execution_count": null,
   "metadata": {},
   "outputs": [],
   "source": [
    "train_dataset = tf.data.Dataset.from_generator(lambda: train_gen,\n",
    "                                               output_types=(tf.float32, tf.float32),\n",
    "                                               output_shapes=([None, img_h, img_w, 3], [None, num_classes]))\n",
    "\n",
    "train_dataset = train_dataset.repeat()\n",
    "\n",
    "\n",
    "valid_dataset = tf.data.Dataset.from_generator(lambda: valid_gen, \n",
    "                                               output_types=(tf.float32, tf.float32),\n",
    "                                               output_shapes=([None, img_h, img_w, 3], [None, num_classes]))\n",
    "\n",
    "valid_dataset = valid_dataset.repeat()"
   ]
  },
  {
   "cell_type": "markdown",
   "metadata": {},
   "source": [
    "### Creating the model\n",
    "\n",
    "Steps:\n",
    "- Import VGG16 and added Fully Connected at the end to get our classification\n",
    "- Trials with adding others layers (dropout, dense, batchnorm)\n",
    "- Import InceptionResNetV2\n",
    "- Same trials\n",
    "- Import InceptionV3\n",
    "- Same trials\n",
    "- Import NASNetLarge\n",
    "- Same trials\n",
    "\n",
    "At the end, NASNet performs better than others with this configuration.\n",
    "\n",
    "I commented the code in which I perform finetuning in the VGG16 since I perform it only in the VGG."
   ]
  },
  {
   "cell_type": "code",
   "execution_count": null,
   "metadata": {},
   "outputs": [],
   "source": [
    "# VGG16\n",
    "#pretrained_model = tf.keras.applications.VGG16(weights='imagenet', include_top=False, input_shape=(img_h, img_w, 3))\n",
    "\n",
    "# INCEPTION\n",
    "#pretrained_model = tf.keras.applications.InceptionV3(weights='imagenet', include_top=False, input_shape=(img_h, img_w, 3), classes=20)\n",
    "\n",
    "# INCEPTIONRESNETV2\n",
    "#pretrained_model = tf.keras.applications.InceptionResNetV2(include_top=False, weights='imagenet', input_shape=(img_h, img_w, 3), pooling='avg', classes=20)\n",
    "\n",
    "# XCEPTION\n",
    "#pretrained_model = tf.keras.applications.xception.Xception(weights='imagenet', include_top=False, input_shape=(img_h, img_w, 3), classes=20)\n",
    "\n",
    "# NASNET\n",
    "pretrained_model = tf.keras.applications.nasnet.NASNetLarge(weights='imagenet', include_top=False, input_shape=(img_h, img_w, 3), classes=20)"
   ]
  },
  {
   "cell_type": "code",
   "execution_count": null,
   "metadata": {},
   "outputs": [],
   "source": [
    "# Setting all the pretrained_model weights fixed\n",
    "for layer in pretrained_model.layers:\n",
    "    layer.trainable = False\n",
    "    \n",
    "    \n",
    "'''\n",
    "finetuning = True\n",
    "\n",
    "if finetuning:\n",
    "    freeze_until = 15 \n",
    "    \n",
    "    for layer in pretrained_model.layers[:freeze_until]:\n",
    "        layer.trainable = False\n",
    "else:\n",
    "    pretrained_model.trainable = False\n",
    "'''\n",
    "\n",
    "\n",
    "model = tf.keras.Sequential()\n",
    "model.add(pretrained_model)\n",
    "model.add(tf.keras.layers.GlobalAveragePooling2D())\n",
    "#model.add(tf.keras.layers.Flatten())\n",
    "model.add(tf.keras.layers.Dense(units=1024, activation='relu'))\n",
    "model.add(tf.keras.layers.Dense(units=num_classes, activation='softmax'))"
   ]
  },
  {
   "cell_type": "code",
   "execution_count": null,
   "metadata": {},
   "outputs": [],
   "source": [
    "model.summary()"
   ]
  },
  {
   "cell_type": "markdown",
   "metadata": {},
   "source": [
    "### Optimization Parameters\n",
    "\n",
    "After some attempts with the VGG16, considering that I set \"trainable\" also some of the last layers of the pretrained network, I use learning rate smaller than the original one with the aim of not changing a lot the values.\n",
    "It improves the accuracy."
   ]
  },
  {
   "cell_type": "code",
   "execution_count": null,
   "metadata": {},
   "outputs": [],
   "source": [
    "loss = tf.keras.losses.CategoricalCrossentropy()\n",
    "\n",
    "lr = 1e-3     # For VGG16 with some trainable layers, lr = 1e-4\n",
    "\n",
    "optimizer = tf.keras.optimizers.Adam(learning_rate=lr)\n",
    "\n",
    "metrics = ['accuracy']\n",
    "\n",
    "model.compile(optimizer=optimizer, loss=loss, metrics=metrics)"
   ]
  },
  {
   "cell_type": "markdown",
   "metadata": {},
   "source": [
    "### Start Training the model"
   ]
  },
  {
   "cell_type": "code",
   "execution_count": null,
   "metadata": {},
   "outputs": [],
   "source": [
    "model.fit(x=train_dataset,\n",
    "          epochs=10, \n",
    "          steps_per_epoch=len(train_gen),\n",
    "          validation_data=valid_dataset,\n",
    "          validation_steps=len(valid_gen))"
   ]
  },
  {
   "cell_type": "markdown",
   "metadata": {},
   "source": [
    "### Get predictions on the test set"
   ]
  },
  {
   "cell_type": "code",
   "execution_count": null,
   "metadata": {},
   "outputs": [],
   "source": [
    "from datetime import datetime\n",
    "\n",
    "def create_csv(results, results_dir='./'):\n",
    "\n",
    "    csv_fname = 'results_'\n",
    "    csv_fname += datetime.now().strftime('%b%d_%H-%M-%S') + '.csv'\n",
    "\n",
    "    with open(os.path.join(results_dir, csv_fname), 'w') as f:\n",
    "\n",
    "        f.write('Id,Category\\n')\n",
    "\n",
    "        for key, value in results.items():\n",
    "            f.write(key + ',' + str(value) + '\\n')"
   ]
  },
  {
   "cell_type": "code",
   "execution_count": null,
   "metadata": {},
   "outputs": [],
   "source": [
    "from PIL import Image\n",
    "test_dir = os.path.join(cwd, 'Classification_Dataset/test')\n",
    "image_filenames = next(os.walk(test_dir))[2]\n",
    "\n",
    "results = {}\n",
    "for image_name in image_filenames:\n",
    "    img = Image.open(os.path.join(test_dir,'{}').format(image_name)).convert('RGB')\n",
    "    img = img.resize((img_h, img_w))\n",
    "    img_array = np.array(img)\n",
    "    img_array = np.expand_dims(img_array, 0) \n",
    "    \n",
    "    out_softmax = model.predict(x=img_array / 255.)\n",
    "    \n",
    "    predicted_class = np.argmax(out_softmax, -1)\n",
    "    \n",
    "    predicted_class = predicted_class[0]\n",
    "    \n",
    "    results[image_name] = predicted_class\n",
    " \n",
    "create_csv(results)"
   ]
  }
 ],
 "metadata": {
  "kernelspec": {
   "display_name": "Python (tensorflow_cpu)",
   "language": "python",
   "name": "tensorflow_cpu"
  },
  "language_info": {
   "codemirror_mode": {
    "name": "ipython",
    "version": 3
   },
   "file_extension": ".py",
   "mimetype": "text/x-python",
   "name": "python",
   "nbconvert_exporter": "python",
   "pygments_lexer": "ipython3",
   "version": "3.6.9"
  }
 },
 "nbformat": 4,
 "nbformat_minor": 2
}
